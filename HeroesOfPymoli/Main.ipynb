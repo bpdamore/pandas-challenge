{
 "nbformat": 4,
 "nbformat_minor": 2,
 "metadata": {
  "language_info": {
   "name": "python",
   "codemirror_mode": {
    "name": "ipython",
    "version": 3
   },
   "version": "3.7.4-final"
  },
  "orig_nbformat": 2,
  "file_extension": ".py",
  "mimetype": "text/x-python",
  "name": "python",
  "npconvert_exporter": "python",
  "pygments_lexer": "ipython3",
  "version": 3,
  "kernelspec": {
   "name": "python3",
   "display_name": "Python 3"
  }
 },
 "cells": [
  {
   "cell_type": "code",
   "execution_count": 1,
   "metadata": {},
   "outputs": [],
   "source": [
    "import pandas as pd\n",
    ""
   ]
  },
  {
   "cell_type": "markdown",
   "metadata": {},
   "source": [
    "### Import File\n",
    "\n",
    "* Import the data file, and make sure you've imported it correctly!"
   ],
   "execution_count": null,
   "outputs": []
  },
  {
   "cell_type": "code",
   "execution_count": 2,
   "metadata": {},
   "outputs": [
    {
     "output_type": "execute_result",
     "data": {
      "text/plain": "     Purchase ID             SN  Age  Gender  Item ID  \\\n0              0        Lisim78   20    Male      108   \n1              1    Lisovynya38   40    Male      143   \n2              2     Ithergue48   24    Male       92   \n3              3  Chamassasya86   24    Male      100   \n4              4      Iskosia90   23    Male      131   \n..           ...            ...  ...     ...      ...   \n775          775     Aethedru70   21  Female       60   \n776          776         Iral74   21    Male      164   \n777          777     Yathecal72   20    Male       67   \n778          778        Sisur91    7    Male       92   \n779          779      Ennrian78   24    Male       50   \n\n                                     Item Name  Price  \n0    Extraction, Quickblade Of Trembling Hands   3.53  \n1                            Frenzied Scimitar   1.56  \n2                                 Final Critic   4.88  \n3                                  Blindscythe   3.27  \n4                                         Fury   1.44  \n..                                         ...    ...  \n775                                       Wolf   3.54  \n776                           Exiled Doomblade   1.63  \n777      Celeste, Incarnation of the Corrupted   3.46  \n778                               Final Critic   4.19  \n779                                       Dawn   4.60  \n\n[780 rows x 7 columns]",
      "text/html": "<div>\n<style scoped>\n    .dataframe tbody tr th:only-of-type {\n        vertical-align: middle;\n    }\n\n    .dataframe tbody tr th {\n        vertical-align: top;\n    }\n\n    .dataframe thead th {\n        text-align: right;\n    }\n</style>\n<table border=\"1\" class=\"dataframe\">\n  <thead>\n    <tr style=\"text-align: right;\">\n      <th></th>\n      <th>Purchase ID</th>\n      <th>SN</th>\n      <th>Age</th>\n      <th>Gender</th>\n      <th>Item ID</th>\n      <th>Item Name</th>\n      <th>Price</th>\n    </tr>\n  </thead>\n  <tbody>\n    <tr>\n      <td>0</td>\n      <td>0</td>\n      <td>Lisim78</td>\n      <td>20</td>\n      <td>Male</td>\n      <td>108</td>\n      <td>Extraction, Quickblade Of Trembling Hands</td>\n      <td>3.53</td>\n    </tr>\n    <tr>\n      <td>1</td>\n      <td>1</td>\n      <td>Lisovynya38</td>\n      <td>40</td>\n      <td>Male</td>\n      <td>143</td>\n      <td>Frenzied Scimitar</td>\n      <td>1.56</td>\n    </tr>\n    <tr>\n      <td>2</td>\n      <td>2</td>\n      <td>Ithergue48</td>\n      <td>24</td>\n      <td>Male</td>\n      <td>92</td>\n      <td>Final Critic</td>\n      <td>4.88</td>\n    </tr>\n    <tr>\n      <td>3</td>\n      <td>3</td>\n      <td>Chamassasya86</td>\n      <td>24</td>\n      <td>Male</td>\n      <td>100</td>\n      <td>Blindscythe</td>\n      <td>3.27</td>\n    </tr>\n    <tr>\n      <td>4</td>\n      <td>4</td>\n      <td>Iskosia90</td>\n      <td>23</td>\n      <td>Male</td>\n      <td>131</td>\n      <td>Fury</td>\n      <td>1.44</td>\n    </tr>\n    <tr>\n      <td>...</td>\n      <td>...</td>\n      <td>...</td>\n      <td>...</td>\n      <td>...</td>\n      <td>...</td>\n      <td>...</td>\n      <td>...</td>\n    </tr>\n    <tr>\n      <td>775</td>\n      <td>775</td>\n      <td>Aethedru70</td>\n      <td>21</td>\n      <td>Female</td>\n      <td>60</td>\n      <td>Wolf</td>\n      <td>3.54</td>\n    </tr>\n    <tr>\n      <td>776</td>\n      <td>776</td>\n      <td>Iral74</td>\n      <td>21</td>\n      <td>Male</td>\n      <td>164</td>\n      <td>Exiled Doomblade</td>\n      <td>1.63</td>\n    </tr>\n    <tr>\n      <td>777</td>\n      <td>777</td>\n      <td>Yathecal72</td>\n      <td>20</td>\n      <td>Male</td>\n      <td>67</td>\n      <td>Celeste, Incarnation of the Corrupted</td>\n      <td>3.46</td>\n    </tr>\n    <tr>\n      <td>778</td>\n      <td>778</td>\n      <td>Sisur91</td>\n      <td>7</td>\n      <td>Male</td>\n      <td>92</td>\n      <td>Final Critic</td>\n      <td>4.19</td>\n    </tr>\n    <tr>\n      <td>779</td>\n      <td>779</td>\n      <td>Ennrian78</td>\n      <td>24</td>\n      <td>Male</td>\n      <td>50</td>\n      <td>Dawn</td>\n      <td>4.60</td>\n    </tr>\n  </tbody>\n</table>\n<p>780 rows × 7 columns</p>\n</div>"
     },
     "metadata": {},
     "execution_count": 2
    }
   ],
   "source": [
    "file = \"Resources/purchase_data.csv\"\n",
    "data = pd.read_csv(file)\n",
    "df = pd.DataFrame(data)\n",
    "\n",
    "df"
   ]
  },
  {
   "cell_type": "markdown",
   "metadata": {},
   "source": [
    "### Player Count\n",
    "\n",
    "* Total Number of Players"
   ],
   "execution_count": null,
   "outputs": []
  },
  {
   "cell_type": "code",
   "execution_count": 3,
   "metadata": {},
   "outputs": [
    {
     "output_type": "execute_result",
     "data": {
      "text/plain": "   Total Players\n0            576",
      "text/html": "<div>\n<style scoped>\n    .dataframe tbody tr th:only-of-type {\n        vertical-align: middle;\n    }\n\n    .dataframe tbody tr th {\n        vertical-align: top;\n    }\n\n    .dataframe thead th {\n        text-align: right;\n    }\n</style>\n<table border=\"1\" class=\"dataframe\">\n  <thead>\n    <tr style=\"text-align: right;\">\n      <th></th>\n      <th>Total Players</th>\n    </tr>\n  </thead>\n  <tbody>\n    <tr>\n      <td>0</td>\n      <td>576</td>\n    </tr>\n  </tbody>\n</table>\n</div>"
     },
     "metadata": {},
     "execution_count": 3
    }
   ],
   "source": [
    "# Find the number of unique SNs\n",
    "totalPlayers = df[\"SN\"].nunique()\n",
    "\n",
    "# Create a DF and make a column header so it looks nice\n",
    "totalPlayers_df = pd.DataFrame([totalPlayers])\n",
    "totalPlayers_df.columns = [\"Total Players\"]\n",
    "totalPlayers_df"
   ]
  },
  {
   "cell_type": "markdown",
   "metadata": {},
   "source": [
    "### Purchasing Analysis (Total)\n",
    "\n",
    "* Number of Unique Items\n",
    "* Average Purchase Price\n",
    "* Total Number of Purchases\n",
    "* Total Revenue"
   ],
   "execution_count": null,
   "outputs": []
  },
  {
   "cell_type": "code",
   "execution_count": 4,
   "metadata": {},
   "outputs": [
    {
     "output_type": "execute_result",
     "data": {
      "text/plain": "   Unique Items Avg Price  Total Purchases Total Revenue\n0           179     $3.05              780      $2379.77",
      "text/html": "<div>\n<style scoped>\n    .dataframe tbody tr th:only-of-type {\n        vertical-align: middle;\n    }\n\n    .dataframe tbody tr th {\n        vertical-align: top;\n    }\n\n    .dataframe thead th {\n        text-align: right;\n    }\n</style>\n<table border=\"1\" class=\"dataframe\">\n  <thead>\n    <tr style=\"text-align: right;\">\n      <th></th>\n      <th>Unique Items</th>\n      <th>Avg Price</th>\n      <th>Total Purchases</th>\n      <th>Total Revenue</th>\n    </tr>\n  </thead>\n  <tbody>\n    <tr>\n      <td>0</td>\n      <td>179</td>\n      <td>$3.05</td>\n      <td>780</td>\n      <td>$2379.77</td>\n    </tr>\n  </tbody>\n</table>\n</div>"
     },
     "metadata": {},
     "execution_count": 4
    }
   ],
   "source": [
    "# Create variables \n",
    "nuniqueItems = df[\"Item ID\"].nunique()\n",
    "totPurch = len(df)\n",
    "avgPric = df[\"Price\"].mean()\n",
    "totRev = df[\"Price\"].sum()\n",
    "# Put them into a DF\n",
    "purchAnalysis_df = pd.DataFrame({\n",
    "    \"Unique Items\":nuniqueItems,\n",
    "    \"Avg Price\":avgPric,\n",
    "    \"Total Purchases\":totPurch,\n",
    "    \"Total Revenue\":totRev\n",
    "}, index=[0])\n",
    "\n",
    "# Format the values\n",
    "purchAnalysis_df[\"Avg Price\"] = purchAnalysis_df[\"Avg Price\"].map(\"${:.2f}\".format)\n",
    "purchAnalysis_df[\"Total Revenue\"] = purchAnalysis_df[\"Total Revenue\"].map(\"${:.2f}\".format)\n",
    "purchAnalysis_df"
   ]
  },
  {
   "cell_type": "markdown",
   "metadata": {},
   "source": [
    "### Gender Demographics\n",
    "\n",
    "* Percentage and Count of Male Players\n",
    "* Percentage and Count of Female Players\n",
    "* Percentage and Count of Other / Non-Disclosed"
   ],
   "execution_count": null,
   "outputs": []
  },
  {
   "cell_type": "code",
   "execution_count": 5,
   "metadata": {},
   "outputs": [
    {
     "output_type": "execute_result",
     "data": {
      "text/plain": "                  Gender  Total Count Percentage of Players\n0                   Male          484                84.03%\n1                 Female           81                14.06%\n2  Other / Non-Disclosed           11                 1.91%",
      "text/html": "<div>\n<style scoped>\n    .dataframe tbody tr th:only-of-type {\n        vertical-align: middle;\n    }\n\n    .dataframe tbody tr th {\n        vertical-align: top;\n    }\n\n    .dataframe thead th {\n        text-align: right;\n    }\n</style>\n<table border=\"1\" class=\"dataframe\">\n  <thead>\n    <tr style=\"text-align: right;\">\n      <th></th>\n      <th>Gender</th>\n      <th>Total Count</th>\n      <th>Percentage of Players</th>\n    </tr>\n  </thead>\n  <tbody>\n    <tr>\n      <td>0</td>\n      <td>Male</td>\n      <td>484</td>\n      <td>84.03%</td>\n    </tr>\n    <tr>\n      <td>1</td>\n      <td>Female</td>\n      <td>81</td>\n      <td>14.06%</td>\n    </tr>\n    <tr>\n      <td>2</td>\n      <td>Other / Non-Disclosed</td>\n      <td>11</td>\n      <td>1.91%</td>\n    </tr>\n  </tbody>\n</table>\n</div>"
     },
     "metadata": {},
     "execution_count": 5
    }
   ],
   "source": [
    "# Pull only the SN and Gender columns\n",
    "gender_df = df.loc[:, [\"SN\", \"Gender\",]]\n",
    "# Take out any duplicates\n",
    "gender_df = gender_df.drop_duplicates([\"SN\"])\n",
    "# Group by gender, and count up the number of players, and put it in decending order\n",
    "gender_df = gender_df.groupby([\"Gender\"], as_index=False).agg({\"SN\" : \"count\"})\n",
    "gender_df = gender_df.sort_values(\"SN\", ascending=False).reset_index(drop=True)\n",
    "gender_df = gender_df.rename(columns = {\"SN\": \"Total Count\"})\n",
    "# Calculate the percentage of players\n",
    "gender_df[\"Percentage of Players\"] = (gender_df[\"Total Count\"] / totalPlayers)\n",
    "\n",
    "# Format the values\n",
    "gender_df[\"Percentage of Players\"] = gender_df[\"Percentage of Players\"].map(\"{:.2%}\".format)\n",
    "gender_df"
   ]
  },
  {
   "cell_type": "markdown",
   "metadata": {},
   "source": [
    "### Purchasing Analysis (Gender)\n",
    "\n",
    "* The below each broken by gender\n",
    "  * Purchase Count\n",
    "  * Average Purchase Price\n",
    "  * Total Purchase Value\n",
    "  * Average Purchase Total per Person by Gender"
   ],
   "execution_count": null,
   "outputs": []
  },
  {
   "cell_type": "code",
   "execution_count": 6,
   "metadata": {},
   "outputs": [
    {
     "output_type": "execute_result",
     "data": {
      "text/plain": "                  Gender  Purchase Count Total Purchase Value  \\\n0                   Male             652             $1967.64   \n1                 Female             113              $361.94   \n2  Other / Non-Disclosed              15               $50.19   \n\n  Avg Purchase Price Avg Purchase per Person  \n0              $3.02                   $4.07  \n1              $3.20                   $4.47  \n2              $3.35                   $4.56  ",
      "text/html": "<div>\n<style scoped>\n    .dataframe tbody tr th:only-of-type {\n        vertical-align: middle;\n    }\n\n    .dataframe tbody tr th {\n        vertical-align: top;\n    }\n\n    .dataframe thead th {\n        text-align: right;\n    }\n</style>\n<table border=\"1\" class=\"dataframe\">\n  <thead>\n    <tr style=\"text-align: right;\">\n      <th></th>\n      <th>Gender</th>\n      <th>Purchase Count</th>\n      <th>Total Purchase Value</th>\n      <th>Avg Purchase Price</th>\n      <th>Avg Purchase per Person</th>\n    </tr>\n  </thead>\n  <tbody>\n    <tr>\n      <td>0</td>\n      <td>Male</td>\n      <td>652</td>\n      <td>$1967.64</td>\n      <td>$3.02</td>\n      <td>$4.07</td>\n    </tr>\n    <tr>\n      <td>1</td>\n      <td>Female</td>\n      <td>113</td>\n      <td>$361.94</td>\n      <td>$3.20</td>\n      <td>$4.47</td>\n    </tr>\n    <tr>\n      <td>2</td>\n      <td>Other / Non-Disclosed</td>\n      <td>15</td>\n      <td>$50.19</td>\n      <td>$3.35</td>\n      <td>$4.56</td>\n    </tr>\n  </tbody>\n</table>\n</div>"
     },
     "metadata": {},
     "execution_count": 6
    }
   ],
   "source": [
    "# Create a new dataframe, drop any unnecessary columns, add any that will be needed. \n",
    "purchGender_df = df.copy()\n",
    "purchGender_df = purchGender_df.drop([\"Purchase ID\", \"Age\", \"Item ID\", \"Item Name\"], axis = 1)\n",
    "purchGender_df[\"AvgPurc\"] = purchGender_df[\"Price\"]\n",
    "# Group by gender, and perform any calculations up front. \n",
    "purchGender_df = purchGender_df.groupby([\"Gender\"], as_index=False).agg({\"SN\":\"count\", \"Price\":\"sum\", \"AvgPurc\":\"mean\"})\n",
    "# Rename columns\n",
    "purchGender_df = purchGender_df.rename(columns= {\"SN\":\"Purchase Count\", \"Price\":\"Total Purchase Value\", \"AvgPurc\":\"Avg Purchase Price\"})\n",
    "\n",
    "# Split up values by gender\n",
    "columns = [\"SN\", \"Price\"]\n",
    "male_df = df.loc[df[\"Gender\"] == \"Male\"]\n",
    "male_df = male_df[columns]\n",
    "female_df = df.loc[df[\"Gender\"] == \"Female\"]\n",
    "female_df = female_df[columns]\n",
    "other_df = df.loc[df[\"Gender\"] == \"Other / Non-Disclosed\"]\n",
    "other_df = other_df[columns]\n",
    "\n",
    "# Calculate the AVG per person by gender\n",
    "malePerPerson = male_df.groupby([\"SN\"]).sum().mean()\n",
    "femalePerPerson = female_df.groupby([\"SN\"]).sum().mean()\n",
    "otherPerPerson = other_df.groupby([\"SN\"]).sum().mean()\n",
    "# Place the values into a list\n",
    "purchPerUsr = pd.DataFrame({\"Avg Purchase per Person\": [femalePerPerson[0], malePerPerson[0], otherPerPerson[0]]})\n",
    "# Assign the values to a column in our DF, and sort in descending order\n",
    "purchGender_df[\"Avg Purchase per Person\"] = purchPerUsr\n",
    "purchGender_df = purchGender_df.sort_values(\"Purchase Count\", ascending=False).reset_index(drop=True)\n",
    "\n",
    "# Format the values\n",
    "purchGender_df[\"Avg Purchase Price\"] = purchGender_df[\"Avg Purchase Price\"].map(\"${:.2f}\".format)\n",
    "purchGender_df[\"Total Purchase Value\"] = purchGender_df[\"Total Purchase Value\"].map(\"${:.2f}\".format)\n",
    "purchGender_df[\"Avg Purchase per Person\"] = purchGender_df[\"Avg Purchase per Person\"].map(\"${:.2f}\".format)\n",
    "\n",
    "purchGender_df"
   ]
  },
  {
   "cell_type": "markdown",
   "metadata": {},
   "source": [
    "## Age Demographics\n",
    "* Establish bins for ages\n",
    "\n",
    "\n",
    "* Categorize the existing players using the age bins. Hint: use pd.cut()\n",
    "\n",
    "\n",
    "* Calculate the numbers and percentages by age group\n",
    "\n",
    "\n",
    "* Create a summary data frame to hold the results\n",
    "\n",
    "\n",
    "* Optional: round the percentage column to two decimal points\n",
    "\n",
    "\n",
    "* Display Age Demographics Table"
   ],
   "execution_count": null,
   "outputs": []
  },
  {
   "cell_type": "code",
   "execution_count": 7,
   "metadata": {},
   "outputs": [
    {
     "output_type": "execute_result",
     "data": {
      "text/plain": "           Total Count Percentage of Players\nAge Range                                   \n<10                 17                 2.95%\n10-14               22                 3.82%\n15-19              107                18.58%\n20-24              258                44.79%\n25-29               77                13.37%\n30-34               52                 9.03%\n35-39               31                 5.38%\n40+                 12                 2.08%",
      "text/html": "<div>\n<style scoped>\n    .dataframe tbody tr th:only-of-type {\n        vertical-align: middle;\n    }\n\n    .dataframe tbody tr th {\n        vertical-align: top;\n    }\n\n    .dataframe thead th {\n        text-align: right;\n    }\n</style>\n<table border=\"1\" class=\"dataframe\">\n  <thead>\n    <tr style=\"text-align: right;\">\n      <th></th>\n      <th>Total Count</th>\n      <th>Percentage of Players</th>\n    </tr>\n    <tr>\n      <th>Age Range</th>\n      <th></th>\n      <th></th>\n    </tr>\n  </thead>\n  <tbody>\n    <tr>\n      <td>&lt;10</td>\n      <td>17</td>\n      <td>2.95%</td>\n    </tr>\n    <tr>\n      <td>10-14</td>\n      <td>22</td>\n      <td>3.82%</td>\n    </tr>\n    <tr>\n      <td>15-19</td>\n      <td>107</td>\n      <td>18.58%</td>\n    </tr>\n    <tr>\n      <td>20-24</td>\n      <td>258</td>\n      <td>44.79%</td>\n    </tr>\n    <tr>\n      <td>25-29</td>\n      <td>77</td>\n      <td>13.37%</td>\n    </tr>\n    <tr>\n      <td>30-34</td>\n      <td>52</td>\n      <td>9.03%</td>\n    </tr>\n    <tr>\n      <td>35-39</td>\n      <td>31</td>\n      <td>5.38%</td>\n    </tr>\n    <tr>\n      <td>40+</td>\n      <td>12</td>\n      <td>2.08%</td>\n    </tr>\n  </tbody>\n</table>\n</div>"
     },
     "metadata": {},
     "execution_count": 7
    }
   ],
   "source": [
    "# Create the bins\n",
    "bins = [0, 9, 14, 19, 24, 29, 34, 39, 100]\n",
    "group_names = [\"<10\", \"10-14\", \"15-19\", \"20-24\", \"25-29\", \"30-34\", \"35-39\", \"40+\"]\n",
    "\n",
    "# Create a new DF, drop the duplicates, rename SN\n",
    "age_df = df.loc[:, [\"SN\", \"Age\",]].drop_duplicates([\"SN\"]).rename(columns = {\"SN\":\"Total Count\"})\n",
    "\n",
    "# Group by the age range, count players, calculate percentage\n",
    "age_df[\"Age Range\"] = pd.cut(age_df[\"Age\"], bins, labels=group_names, include_lowest=True)\n",
    "age_df = age_df.groupby([\"Age Range\"], as_index=True).agg({\"Total Count\" : \"count\"})\n",
    "age_df[\"Percentage of Players\"] = (age_df[\"Total Count\"] / totalPlayers)\n",
    "\n",
    "#Format values\n",
    "age_df[\"Percentage of Players\"] = (age_df[\"Percentage of Players\"]).map(\"{:.2%}\".format)\n",
    "\n",
    "age_df"
   ]
  },
  {
   "cell_type": "markdown",
   "metadata": {},
   "source": [
    "### Purchasing Analysis (Age)\n",
    "\n",
    "* The below each broken into bins of 4 years (i.e. &lt;10, 10-14, 15-19, etc.)\n",
    "  * Purchase Count\n",
    "  * Average Purchase Price\n",
    "  * Total Purchase Value\n",
    "  * Average Purchase Total per Person by Age Group\n"
   ],
   "execution_count": null,
   "outputs": []
  },
  {
   "cell_type": "code",
   "execution_count": 8,
   "metadata": {},
   "outputs": [
    {
     "output_type": "execute_result",
     "data": {
      "text/plain": "           Purchase Count Total Purchase Value Avg Purchase Price  \\\nAge Range                                                           \n<10                    23               $77.13              $3.35   \n10-14                  28               $82.78              $2.96   \n15-19                 136              $412.89              $3.04   \n20-24                 365             $1114.06              $3.05   \n25-29                 101              $293.00              $2.90   \n30-34                  73              $214.00              $2.93   \n35-39                  41              $147.67              $3.60   \n40+                    13               $38.24              $2.94   \n\n          Avg Total Purchase per Person  \nAge Range                                \n<10                               $4.54  \n10-14                             $3.76  \n15-19                             $3.86  \n20-24                             $4.32  \n25-29                             $3.81  \n30-34                             $4.12  \n35-39                             $4.76  \n40+                               $3.19  ",
      "text/html": "<div>\n<style scoped>\n    .dataframe tbody tr th:only-of-type {\n        vertical-align: middle;\n    }\n\n    .dataframe tbody tr th {\n        vertical-align: top;\n    }\n\n    .dataframe thead th {\n        text-align: right;\n    }\n</style>\n<table border=\"1\" class=\"dataframe\">\n  <thead>\n    <tr style=\"text-align: right;\">\n      <th></th>\n      <th>Purchase Count</th>\n      <th>Total Purchase Value</th>\n      <th>Avg Purchase Price</th>\n      <th>Avg Total Purchase per Person</th>\n    </tr>\n    <tr>\n      <th>Age Range</th>\n      <th></th>\n      <th></th>\n      <th></th>\n      <th></th>\n    </tr>\n  </thead>\n  <tbody>\n    <tr>\n      <td>&lt;10</td>\n      <td>23</td>\n      <td>$77.13</td>\n      <td>$3.35</td>\n      <td>$4.54</td>\n    </tr>\n    <tr>\n      <td>10-14</td>\n      <td>28</td>\n      <td>$82.78</td>\n      <td>$2.96</td>\n      <td>$3.76</td>\n    </tr>\n    <tr>\n      <td>15-19</td>\n      <td>136</td>\n      <td>$412.89</td>\n      <td>$3.04</td>\n      <td>$3.86</td>\n    </tr>\n    <tr>\n      <td>20-24</td>\n      <td>365</td>\n      <td>$1114.06</td>\n      <td>$3.05</td>\n      <td>$4.32</td>\n    </tr>\n    <tr>\n      <td>25-29</td>\n      <td>101</td>\n      <td>$293.00</td>\n      <td>$2.90</td>\n      <td>$3.81</td>\n    </tr>\n    <tr>\n      <td>30-34</td>\n      <td>73</td>\n      <td>$214.00</td>\n      <td>$2.93</td>\n      <td>$4.12</td>\n    </tr>\n    <tr>\n      <td>35-39</td>\n      <td>41</td>\n      <td>$147.67</td>\n      <td>$3.60</td>\n      <td>$4.76</td>\n    </tr>\n    <tr>\n      <td>40+</td>\n      <td>13</td>\n      <td>$38.24</td>\n      <td>$2.94</td>\n      <td>$3.19</td>\n    </tr>\n  </tbody>\n</table>\n</div>"
     },
     "metadata": {},
     "execution_count": 8
    }
   ],
   "source": [
    "# Create bins\n",
    "bins = [0, 9, 14, 19, 24, 29, 34, 39, 100]\n",
    "group_names = [\"<10\", \"10-14\", \"15-19\", \"20-24\", \"25-29\", \"30-34\", \"35-39\", \"40+\"]\n",
    "# Create our new DF\n",
    "agePurch_df = df.copy()\n",
    "# Create the necessary columns, drop the rest. \n",
    "agePurch_df[\"Age Range\"] = pd.cut(agePurch_df[\"Age\"], bins, labels=group_names, include_lowest=True)\n",
    "agePurch_df = agePurch_df.drop([\"Purchase ID\", \"Age\", \"Item ID\", \"Item Name\"], axis = 1)\n",
    "agePurch_df[\"AvgPurc\"] = agePurch_df[\"Price\"]\n",
    "agePurch_df[\"Avg Total Purchase per Person\"] = agePurch_df[\"Price\"]\n",
    "\n",
    "# Create a copy of the DF we have so far. Create a list. \n",
    "perTotAge_df = agePurch_df.copy()\n",
    "perTotAge = []\n",
    "# For each name in groupnames, group purchases by SN, add them and then average them. \n",
    "# Then place them into a list. \n",
    "for x in range(len(group_names)):\n",
    "    ageTemp_df = perTotAge_df.loc[perTotAge_df[\"Age Range\"] == group_names[x]]\n",
    "    bracketAvgAge = ageTemp_df.groupby([\"SN\"]).sum().mean()\n",
    "    perTotAge.append(bracketAvgAge[\"Avg Total Purchase per Person\"])\n",
    "\n",
    "# Group agePurch_df by the age range, and perform necessary calculations. Also rename columns.\n",
    "agePurch_df = agePurch_df.groupby([\"Age Range\"], as_index=True).agg({\"SN\":\"count\", \"Price\":\"sum\", \"AvgPurc\":\"mean\"})\n",
    "agePurch_df = agePurch_df.rename(columns= {\"SN\":\"Purchase Count\", \"Price\":\"Total Purchase Value\", \"AvgPurc\":\"Avg Purchase Price\"})\n",
    "# Set the total per person to the list made previously \n",
    "agePurch_df[\"Avg Total Purchase per Person\"] = perTotAge\n",
    "\n",
    "# Format the values. \n",
    "agePurch_df[\"Total Purchase Value\"] = agePurch_df[\"Total Purchase Value\"].map(\"${:.2f}\".format)\n",
    "agePurch_df[\"Avg Purchase Price\"] = agePurch_df[\"Avg Purchase Price\"].map(\"${:.2f}\".format)\n",
    "agePurch_df[\"Avg Total Purchase per Person\"] = agePurch_df[\"Avg Total Purchase per Person\"].map(\"${:.2f}\".format)\n",
    "agePurch_df\n",
    "\n",
    ""
   ]
  },
  {
   "cell_type": "markdown",
   "metadata": {},
   "source": [
    "### Top Spenders\n",
    "\n",
    "* Identify the the top 5 spenders in the game by total purchase value, then list (in a table):\n",
    "  * SN\n",
    "  * Purchase Count\n",
    "  * Average Purchase Price\n",
    "  * Total Purchase Value\n"
   ],
   "execution_count": null,
   "outputs": []
  },
  {
   "cell_type": "code",
   "execution_count": 9,
   "metadata": {},
   "outputs": [
    {
     "output_type": "execute_result",
     "data": {
      "text/plain": "             Purchase Count Avg Purchase Price Total Purchase Value\nSN                                                                 \nLisosia93                 5              $3.79               $18.96\nIdastidru52               4              $3.86               $15.45\nChamjask73                3              $4.61               $13.83\nIral74                    4              $3.40               $13.62\nIskadarya95               3              $4.37               $13.10",
      "text/html": "<div>\n<style scoped>\n    .dataframe tbody tr th:only-of-type {\n        vertical-align: middle;\n    }\n\n    .dataframe tbody tr th {\n        vertical-align: top;\n    }\n\n    .dataframe thead th {\n        text-align: right;\n    }\n</style>\n<table border=\"1\" class=\"dataframe\">\n  <thead>\n    <tr style=\"text-align: right;\">\n      <th></th>\n      <th>Purchase Count</th>\n      <th>Avg Purchase Price</th>\n      <th>Total Purchase Value</th>\n    </tr>\n    <tr>\n      <th>SN</th>\n      <th></th>\n      <th></th>\n      <th></th>\n    </tr>\n  </thead>\n  <tbody>\n    <tr>\n      <td>Lisosia93</td>\n      <td>5</td>\n      <td>$3.79</td>\n      <td>$18.96</td>\n    </tr>\n    <tr>\n      <td>Idastidru52</td>\n      <td>4</td>\n      <td>$3.86</td>\n      <td>$15.45</td>\n    </tr>\n    <tr>\n      <td>Chamjask73</td>\n      <td>3</td>\n      <td>$4.61</td>\n      <td>$13.83</td>\n    </tr>\n    <tr>\n      <td>Iral74</td>\n      <td>4</td>\n      <td>$3.40</td>\n      <td>$13.62</td>\n    </tr>\n    <tr>\n      <td>Iskadarya95</td>\n      <td>3</td>\n      <td>$4.37</td>\n      <td>$13.10</td>\n    </tr>\n  </tbody>\n</table>\n</div>"
     },
     "metadata": {},
     "execution_count": 9
    }
   ],
   "source": [
    "# Create a new DF, rename the columns, and add a new one for Avg price\n",
    "topSpend_df = df.loc[:, [\"SN\", \"Price\", \"Item ID\"]].rename(columns = {\"Price\":\"Total Purchase Value\",\"Item ID\":\"Purchase Count\"})\n",
    "topSpend_df[\"Avg Purchase Price\"] = topSpend_df[\"Total Purchase Value\"]\n",
    "# Group by the SN, do the calculations, and sort by the top spender\n",
    "topSpend_df = topSpend_df.groupby([\"SN\"], as_index=True).agg({\"Purchase Count\":\"count\",\"Avg Purchase Price\":\"mean\", \"Total Purchase Value\":\"sum\"})\n",
    "topSpend_df = topSpend_df.sort_values(\"Total Purchase Value\", ascending=False)\n",
    "\n",
    "# Format the values\n",
    "topSpend_df[\"Avg Purchase Price\"] = topSpend_df[\"Avg Purchase Price\"].map(\"${:.2f}\".format)\n",
    "topSpend_df[\"Total Purchase Value\"] = topSpend_df[\"Total Purchase Value\"].map(\"${:.2f}\".format)\n",
    "# Save only the top 5\n",
    "topSpend_df = topSpend_df.head()\n",
    "topSpend_df"
   ]
  },
  {
   "cell_type": "markdown",
   "metadata": {},
   "source": [
    "### Most Popular Items\n",
    "\n",
    "* Identify the 5 most popular items by purchase count, then list (in a table):\n",
    "  * Item ID\n",
    "  * Item Name\n",
    "  * Purchase Count\n",
    "  * Item Price\n",
    "  * Total Purchase Value"
   ],
   "execution_count": null,
   "outputs": []
  },
  {
   "cell_type": "code",
   "execution_count": 46,
   "metadata": {},
   "outputs": [
    {
     "output_type": "execute_result",
     "data": {
      "text/plain": "   Item ID                                     Item Name  Price  \\\n0      178  Oathbreaker, Last Hope of the Breaking Storm  $4.23   \n1      108     Extraction, Quickblade Of Trembling Hands  $3.53   \n2      145                          Fiery Glass Crusader  $4.58   \n3       82                                       Nirvana  $4.90   \n4       37           Shadow Strike, Glory of Ending Hope  $3.16   \n\n  Total Purchase Value  Purchase Count  \n0               $50.76              12  \n1               $31.77               9  \n2               $41.22               9  \n3               $44.10               9  \n4               $25.28               8  ",
      "text/html": "<div>\n<style scoped>\n    .dataframe tbody tr th:only-of-type {\n        vertical-align: middle;\n    }\n\n    .dataframe tbody tr th {\n        vertical-align: top;\n    }\n\n    .dataframe thead th {\n        text-align: right;\n    }\n</style>\n<table border=\"1\" class=\"dataframe\">\n  <thead>\n    <tr style=\"text-align: right;\">\n      <th></th>\n      <th>Item ID</th>\n      <th>Item Name</th>\n      <th>Price</th>\n      <th>Total Purchase Value</th>\n      <th>Purchase Count</th>\n    </tr>\n  </thead>\n  <tbody>\n    <tr>\n      <td>0</td>\n      <td>178</td>\n      <td>Oathbreaker, Last Hope of the Breaking Storm</td>\n      <td>$4.23</td>\n      <td>$50.76</td>\n      <td>12</td>\n    </tr>\n    <tr>\n      <td>1</td>\n      <td>108</td>\n      <td>Extraction, Quickblade Of Trembling Hands</td>\n      <td>$3.53</td>\n      <td>$31.77</td>\n      <td>9</td>\n    </tr>\n    <tr>\n      <td>2</td>\n      <td>145</td>\n      <td>Fiery Glass Crusader</td>\n      <td>$4.58</td>\n      <td>$41.22</td>\n      <td>9</td>\n    </tr>\n    <tr>\n      <td>3</td>\n      <td>82</td>\n      <td>Nirvana</td>\n      <td>$4.90</td>\n      <td>$44.10</td>\n      <td>9</td>\n    </tr>\n    <tr>\n      <td>4</td>\n      <td>37</td>\n      <td>Shadow Strike, Glory of Ending Hope</td>\n      <td>$3.16</td>\n      <td>$25.28</td>\n      <td>8</td>\n    </tr>\n  </tbody>\n</table>\n</div>"
     },
     "metadata": {},
     "execution_count": 46
    }
   ],
   "source": [
    "# Create the ne DF, create the necessary columns\n",
    "popItem_df = df.loc[:, [\"Item ID\", \"Item Name\", \"Price\"]]\n",
    "popItem_df[\"Purchase Count\"] = popItem_df[\"Item Name\"]\n",
    "popItem_df[\"Total Purchase Value\"] = popItem_df[\"Price\"]\n",
    "# Group by the item Id, and keep the necessary columns. Also, do calculations\n",
    "popItem_df = popItem_df.groupby([\"Item ID\", \"Item Name\", \"Price\"], as_index=False).agg({\"Total Purchase Value\":\"sum\", \"Purchase Count\":\"count\"})\n",
    "# Sort by Purchase count\n",
    "popItem_df = popItem_df.sort_values(\"Purchase Count\", ascending=False)\n",
    "# Save the top 5\n",
    "popItem_df = popItem_df.head().reset_index(drop=True)\n",
    "\n",
    "# Format the Values\n",
    "popItem_df[\"Price\"] = popItem_df[\"Price\"].map(\"${:.2f}\".format)\n",
    "popItem_df[\"Total Purchase Value\"] = popItem_df[\"Total Purchase Value\"].map(\"${:.2f}\".format)\n",
    "popItem_df"
   ]
  },
  {
   "cell_type": "markdown",
   "metadata": {},
   "source": [
    "### Most Profitable Items\n",
    "\n",
    "* Identify the 5 most profitable items by total purchase value, then list (in a table):\n",
    "  * Item ID\n",
    "  * Item Name\n",
    "  * Purchase Count\n",
    "  * Item Price\n",
    "  * Total Purchase Value"
   ],
   "execution_count": null,
   "outputs": []
  },
  {
   "cell_type": "code",
   "execution_count": 57,
   "metadata": {},
   "outputs": [
    {
     "output_type": "execute_result",
     "data": {
      "text/plain": "   Item ID                                     Item Name  Price  \\\n0      178  Oathbreaker, Last Hope of the Breaking Storm  $4.23   \n1       82                                       Nirvana  $4.90   \n2      145                          Fiery Glass Crusader  $4.58   \n3       92                                  Final Critic  $4.88   \n4      103                                Singed Scalpel  $4.35   \n\n  Total Purchase Value  Purchase Count  \n0               $50.76              12  \n1               $44.10               9  \n2               $41.22               9  \n3               $39.04               8  \n4               $34.80               8  ",
      "text/html": "<div>\n<style scoped>\n    .dataframe tbody tr th:only-of-type {\n        vertical-align: middle;\n    }\n\n    .dataframe tbody tr th {\n        vertical-align: top;\n    }\n\n    .dataframe thead th {\n        text-align: right;\n    }\n</style>\n<table border=\"1\" class=\"dataframe\">\n  <thead>\n    <tr style=\"text-align: right;\">\n      <th></th>\n      <th>Item ID</th>\n      <th>Item Name</th>\n      <th>Price</th>\n      <th>Total Purchase Value</th>\n      <th>Purchase Count</th>\n    </tr>\n  </thead>\n  <tbody>\n    <tr>\n      <td>0</td>\n      <td>178</td>\n      <td>Oathbreaker, Last Hope of the Breaking Storm</td>\n      <td>$4.23</td>\n      <td>$50.76</td>\n      <td>12</td>\n    </tr>\n    <tr>\n      <td>1</td>\n      <td>82</td>\n      <td>Nirvana</td>\n      <td>$4.90</td>\n      <td>$44.10</td>\n      <td>9</td>\n    </tr>\n    <tr>\n      <td>2</td>\n      <td>145</td>\n      <td>Fiery Glass Crusader</td>\n      <td>$4.58</td>\n      <td>$41.22</td>\n      <td>9</td>\n    </tr>\n    <tr>\n      <td>3</td>\n      <td>92</td>\n      <td>Final Critic</td>\n      <td>$4.88</td>\n      <td>$39.04</td>\n      <td>8</td>\n    </tr>\n    <tr>\n      <td>4</td>\n      <td>103</td>\n      <td>Singed Scalpel</td>\n      <td>$4.35</td>\n      <td>$34.80</td>\n      <td>8</td>\n    </tr>\n  </tbody>\n</table>\n</div>"
     },
     "metadata": {},
     "execution_count": 57
    }
   ],
   "source": [
    "# Create the ne DF, create the necessary columns\n",
    "profItem_df = df.loc[:, [\"Item ID\", \"Item Name\", \"Price\"]]\n",
    "profItem_df[\"Purchase Count\"] = profItem_df[\"Item Name\"]\n",
    "profItem_df[\"Total Purchase Value\"] = profItem_df[\"Price\"]\n",
    "# Group by the item Id, and keep the necessary columns. Also, do calculations\n",
    "profItem_df = profItem_df.groupby([\"Item ID\", \"Item Name\", \"Price\"], as_index=False).agg({\"Total Purchase Value\":\"sum\", \"Purchase Count\":\"count\"})\n",
    "# Sort by Purchase Value\n",
    "profItem_df = profItem_df.sort_values(\"Total Purchase Value\", ascending=False)\n",
    "# Save the top 5\n",
    "profItem_df = profItem_df.head().reset_index(drop=True)\n",
    "\n",
    "# Format the Values\n",
    "profItem_df[\"Price\"] = profItem_df[\"Price\"].map(\"${:.2f}\".format)\n",
    "profItem_df[\"Total Purchase Value\"] = profItem_df[\"Total Purchase Value\"].map(\"${:.2f}\".format)\n",
    "profItem_df"
   ]
  },
  {
   "cell_type": "code",
   "execution_count": null,
   "metadata": {},
   "outputs": [],
   "source": []
  }
 ]
}